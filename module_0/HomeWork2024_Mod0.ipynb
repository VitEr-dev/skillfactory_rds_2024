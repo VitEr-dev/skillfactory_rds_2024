{
 "cells": [
  {
   "cell_type": "code",
   "execution_count": 1,
   "metadata": {},
   "outputs": [
    {
     "name": "stdout",
     "output_type": "stream",
     "text": [
      "Ваш алгоритм угадывает число в среднем за 9 попыток\n"
     ]
    },
    {
     "data": {
      "text/plain": [
       "9"
      ]
     },
     "execution_count": 1,
     "metadata": {},
     "output_type": "execute_result"
    }
   ],
   "source": [
    "import numpy as np\n",
    "\n",
    "def game_core(number):\n",
    "    #Сначала устанавливаем любое random число, а потом уменьшаем или увеличиваем его в зависимости от того, \n",
    "    #больше оно или меньше нужного. при этом, каждое новое число создаем в ссужающемся диапазоне\n",
    "    #Функция принимает загаданное число и возвращает число попыток\n",
    "    count = 0\n",
    "    m1=1 #нижняя граница диапазона\n",
    "    m2=101 #верхняя граница диапазона\n",
    "    while True:\n",
    "        count+=1\n",
    "        predict = np.random.randint(m1,m2) #задали новое значение\n",
    "        if number == predict: \n",
    "            break    # выход из цикла, если угадали\n",
    "        elif number > predict: \n",
    "            m1=predict #угадываемое число больше predict, ссужаем диапазон снизу\n",
    "        elif number < predict: \n",
    "            m2=predict+1 #угадываемое число больше predict, ссужаем диапазон сверху\n",
    "    return(count) # выход из цикла, если угадали\n",
    "\n",
    "def score_game(game_core):\n",
    "    #Запускаем игру 1000 раз, чтобы узнать, как быстро игра угадывает число\n",
    "    count_ls = [] # создаем список для учета количества попыток\n",
    "    np.random.seed(1)  # фиксируем RANDOM SEED, чтобы эксперимент был воспроизводим!\n",
    "    random_array = np.random.randint(1,101, size=(1000)) #создем массив чисел, которые будем угадываеть\n",
    "    for number in random_array:\n",
    "        count_ls.append(game_core(number))\n",
    "    score = int(np.mean(count_ls)) # определяем среднее значение попыток\n",
    "    print(f\"Ваш алгоритм угадывает число в среднем за {score} попыток\")\n",
    "    #print(count_ls)\n",
    "    return(score)\n",
    "\n",
    "score_game(game_core) # запускаем"
   ]
  }
 ],
 "metadata": {
  "kernelspec": {
   "display_name": "Python 3",
   "language": "python",
   "name": "python3"
  },
  "language_info": {
   "codemirror_mode": {
    "name": "ipython",
    "version": 3
   },
   "file_extension": ".py",
   "mimetype": "text/x-python",
   "name": "python",
   "nbconvert_exporter": "python",
   "pygments_lexer": "ipython3",
   "version": "3.9.6"
  }
 },
 "nbformat": 4,
 "nbformat_minor": 2
}
